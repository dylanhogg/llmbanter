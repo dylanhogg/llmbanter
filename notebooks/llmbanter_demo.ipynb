{
  "cells": [
    {
      "cell_type": "markdown",
      "metadata": {
        "id": "JarYwM4FxV5x"
      },
      "source": [
        "# LLM Banter Demo\n",
        "\n",
        "[![Colab](https://colab.research.google.com/assets/colab-badge.svg)](https://colab.research.google.com/github/dylanhogg/llmbanter/blob/master/notebooks/llmbanter_demo.ipynb)\n",
        "\n",
        "LLM Banter: See 2 large language models (LLMs) banter, debate and chat with each other.\n",
        "\n",
        "https://github.com/dylanhogg/llmbanter\n",
        "\n",
        "<img src=\"https://github.com/dylanhogg/llmbanter/blob/main/docs/img/header.jpg?raw=true\" alt=\"drawing\" width=\"400px\"/>"
      ]
    },
    {
      "cell_type": "markdown",
      "metadata": {
        "id": "duxRkvbeKbH4"
      },
      "source": [
        "This notebook demonstrate LLM Banter with these steps:\n",
        "1. TODO"
      ]
    },
    {
      "cell_type": "markdown",
      "metadata": {
        "id": "ZsrezNA9LppM"
      },
      "source": [
        "## Install llmbanter"
      ]
    },
    {
      "cell_type": "code",
      "execution_count": null,
      "metadata": {
        "id": "Og6vjqOqxO9X"
      },
      "outputs": [],
      "source": [
        "# Install llmbanter from pypi (https://pypi.org/project/llmbanter/)\n",
        "# (Ignore any dependency resolver issues, they're fine)\n",
        "%pip install llmbanter -qqq"
      ]
    },
    {
      "cell_type": "code",
      "execution_count": null,
      "metadata": {
        "id": "_dwPBofNxP0z"
      },
      "outputs": [],
      "source": [
        "# Display installed llmbanter version\n",
        "%pip list | grep llmbanter"
      ]
    },
    {
      "cell_type": "markdown",
      "metadata": {
        "id": "Z8JQTYP2W0BJ"
      },
      "source": [
        "## Define a custom bot file"
      ]
    },
    {
      "cell_type": "code",
      "execution_count": null,
      "metadata": {
        "id": "GCXR94dpUUwm"
      },
      "outputs": [],
      "source": [
        "custom_bot_yaml = \"\"\"\n",
        "version: 1.0\n",
        "bot_type: LLMBot\n",
        "name: positive reddit commenter\n",
        "voice: female_voice1\n",
        "opener: I posted about a new Python library called llmbanter that gets 2 large language models (LLMs) banter, debate and chat with each other.\n",
        "system: |-\n",
        "  You are a Reddit commenter who writes positive, encouraging comments about posts.\n",
        "  (your responses are less than 30 words)\n",
        "\"\"\""
      ]
    },
    {
      "cell_type": "code",
      "execution_count": null,
      "metadata": {
        "id": "KjQxjd0UUUzV"
      },
      "outputs": [],
      "source": [
        "with open(\"custom_bot.yaml\", \"w\") as text_file:\n",
        "    text_file.write(custom_bot_yaml)"
      ]
    },
    {
      "cell_type": "markdown",
      "metadata": {
        "id": "cpVE4aQjLraA"
      },
      "source": [
        "## Imports"
      ]
    },
    {
      "cell_type": "code",
      "execution_count": null,
      "metadata": {
        "id": "cN81mjiLzL5H"
      },
      "outputs": [],
      "source": [
        "import getpass\n",
        "import IPython\n",
        "import os\n",
        "from pathlib import Path\n"
      ]
    },
    {
      "cell_type": "markdown",
      "metadata": {
        "id": "Uuq7Q3AULwXx"
      },
      "source": [
        "## Enter your OpenAI API Key"
      ]
    },
    {
      "cell_type": "code",
      "execution_count": null,
      "metadata": {
        "id": "uXaylu7pzjqV"
      },
      "outputs": [],
      "source": [
        "# Set OPENAI_API_KEY from user input (hidden in UI via getpass function)\n",
        "os.environ[\"OPENAI_API_KEY\"] = getpass.getpass(\"Enter your OpenAI API Key\")"
      ]
    },
    {
      "cell_type": "markdown",
      "metadata": {
        "id": "8gY_-vhLL4Uf"
      },
      "source": [
        "## Run LLM Banter command"
      ]
    },
    {
      "cell_type": "code",
      "execution_count": null,
      "metadata": {
        "id": "wSux5AnAxP25"
      },
      "outputs": [],
      "source": [
        "# Run llmbanter to write a story, without prompting for user input (--no-allow-user-input)\n",
        "# !llmbanter custom_bot human\n",
        "# !llmbanter expert/python human\n",
        "!llmbanter assistant assistant"
      ]
    },
    {
      "cell_type": "markdown",
      "metadata": {
        "id": "Y4-g6rk6L_B5"
      },
      "source": [
        "## Locate the output conversation file and display it"
      ]
    },
    {
      "cell_type": "code",
      "execution_count": null,
      "metadata": {
        "id": "pDuAtHMq9ZaX"
      },
      "outputs": [],
      "source": [
        "result_files = []\n",
        "for root, dirs, files in os.walk(\"llmbanter_conversations\"):\n",
        "  if not dirs:\n",
        "    html_file = [f for f in files if f.endswith(\".txt\")]\n",
        "    result_files.append(str(Path(root) / html_file[0]))\n",
        "result_files = sorted(result_files)\n",
        "book_file = result_files[-1]\n",
        "\n",
        "print(result_files)\n",
        "print(book_file)"
      ]
    },
    {
      "cell_type": "code",
      "execution_count": null,
      "metadata": {
        "id": "QHbHFPIWJZVD"
      },
      "outputs": [],
      "source": [
        "!cat {book_file}"
      ]
    },
    {
      "cell_type": "code",
      "execution_count": null,
      "metadata": {
        "id": "z1UZdk2WJXWF"
      },
      "outputs": [],
      "source": [
        "# Uncomment these lines to download book html (or find it in the file tree on the left)\n",
        "# from google.colab import files\n",
        "# files.download(book_file)"
      ]
    },
    {
      "cell_type": "code",
      "execution_count": null,
      "metadata": {
        "id": "ClWwtYo18Jfe"
      },
      "outputs": [],
      "source": [
        "# Display book html\n",
        "# IPython.display.HTML(filename=book_file)"
      ]
    },
    {
      "cell_type": "code",
      "execution_count": null,
      "metadata": {
        "id": "Y7-UIGlp8Jjk"
      },
      "outputs": [],
      "source": []
    }
  ],
  "metadata": {
    "colab": {
      "provenance": []
    },
    "kernelspec": {
      "display_name": "Python 3 (ipykernel)",
      "language": "python",
      "name": "python3"
    },
    "language_info": {
      "codemirror_mode": {
        "name": "ipython",
        "version": 3
      },
      "file_extension": ".py",
      "mimetype": "text/x-python",
      "name": "python",
      "nbconvert_exporter": "python",
      "pygments_lexer": "ipython3",
      "version": "3.11.6"
    }
  },
  "nbformat": 4,
  "nbformat_minor": 0
}
